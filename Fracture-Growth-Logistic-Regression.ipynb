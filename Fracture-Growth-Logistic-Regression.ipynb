{
 "cells": [
  {
   "cell_type": "code",
   "execution_count": 1,
   "metadata": {},
   "outputs": [],
   "source": [
    "# import relevant commands\n",
    "import matplotlib.pyplot as plt\n",
    "import numpy as np\n",
    "import pandas as pd\n",
    "import seaborn as sns\n",
    "%matplotlib inline"
   ]
  },
  {
   "cell_type": "code",
   "execution_count": 4,
   "metadata": {},
   "outputs": [
    {
     "data": {
      "text/html": [
       "<div>\n",
       "<style scoped>\n",
       "    .dataframe tbody tr th:only-of-type {\n",
       "        vertical-align: middle;\n",
       "    }\n",
       "\n",
       "    .dataframe tbody tr th {\n",
       "        vertical-align: top;\n",
       "    }\n",
       "\n",
       "    .dataframe thead th {\n",
       "        text-align: right;\n",
       "    }\n",
       "</style>\n",
       "<table border=\"1\" class=\"dataframe\">\n",
       "  <thead>\n",
       "    <tr style=\"text-align: right;\">\n",
       "      <th></th>\n",
       "      <th>Young's Modulus (GPa)</th>\n",
       "      <th>Poisson's ratio</th>\n",
       "      <th>Tensile Strength (MPa)</th>\n",
       "      <th>Compressive strength (MPa)</th>\n",
       "      <th>Density (g/cm3)</th>\n",
       "      <th>Friction coefficient</th>\n",
       "      <th>Inclination angle</th>\n",
       "      <th>X</th>\n",
       "      <th>Y</th>\n",
       "      <th>Fracture Growth</th>\n",
       "    </tr>\n",
       "  </thead>\n",
       "  <tbody>\n",
       "    <tr>\n",
       "      <th>0</th>\n",
       "      <td>2.9</td>\n",
       "      <td>0.44</td>\n",
       "      <td>75</td>\n",
       "      <td>139</td>\n",
       "      <td>1.18</td>\n",
       "      <td>0.53</td>\n",
       "      <td>0</td>\n",
       "      <td>1.752987</td>\n",
       "      <td>5.035553</td>\n",
       "      <td>0</td>\n",
       "    </tr>\n",
       "    <tr>\n",
       "      <th>1</th>\n",
       "      <td>2.9</td>\n",
       "      <td>0.44</td>\n",
       "      <td>75</td>\n",
       "      <td>139</td>\n",
       "      <td>1.18</td>\n",
       "      <td>0.53</td>\n",
       "      <td>0</td>\n",
       "      <td>3.200039</td>\n",
       "      <td>5.402463</td>\n",
       "      <td>1</td>\n",
       "    </tr>\n",
       "    <tr>\n",
       "      <th>2</th>\n",
       "      <td>2.9</td>\n",
       "      <td>0.44</td>\n",
       "      <td>75</td>\n",
       "      <td>139</td>\n",
       "      <td>1.18</td>\n",
       "      <td>0.53</td>\n",
       "      <td>0</td>\n",
       "      <td>3.279343</td>\n",
       "      <td>4.390618</td>\n",
       "      <td>1</td>\n",
       "    </tr>\n",
       "    <tr>\n",
       "      <th>3</th>\n",
       "      <td>2.9</td>\n",
       "      <td>0.44</td>\n",
       "      <td>75</td>\n",
       "      <td>139</td>\n",
       "      <td>1.18</td>\n",
       "      <td>0.53</td>\n",
       "      <td>0</td>\n",
       "      <td>3.098813</td>\n",
       "      <td>3.604574</td>\n",
       "      <td>1</td>\n",
       "    </tr>\n",
       "    <tr>\n",
       "      <th>4</th>\n",
       "      <td>2.9</td>\n",
       "      <td>0.44</td>\n",
       "      <td>75</td>\n",
       "      <td>139</td>\n",
       "      <td>1.18</td>\n",
       "      <td>0.53</td>\n",
       "      <td>0</td>\n",
       "      <td>3.384115</td>\n",
       "      <td>5.025376</td>\n",
       "      <td>0</td>\n",
       "    </tr>\n",
       "    <tr>\n",
       "      <th>5</th>\n",
       "      <td>2.9</td>\n",
       "      <td>0.44</td>\n",
       "      <td>75</td>\n",
       "      <td>139</td>\n",
       "      <td>1.18</td>\n",
       "      <td>0.53</td>\n",
       "      <td>0</td>\n",
       "      <td>3.040002</td>\n",
       "      <td>2.894427</td>\n",
       "      <td>1</td>\n",
       "    </tr>\n",
       "    <tr>\n",
       "      <th>6</th>\n",
       "      <td>2.9</td>\n",
       "      <td>0.44</td>\n",
       "      <td>75</td>\n",
       "      <td>139</td>\n",
       "      <td>1.18</td>\n",
       "      <td>0.53</td>\n",
       "      <td>0</td>\n",
       "      <td>3.041936</td>\n",
       "      <td>2.259991</td>\n",
       "      <td>1</td>\n",
       "    </tr>\n",
       "    <tr>\n",
       "      <th>7</th>\n",
       "      <td>2.9</td>\n",
       "      <td>0.44</td>\n",
       "      <td>75</td>\n",
       "      <td>139</td>\n",
       "      <td>1.18</td>\n",
       "      <td>0.53</td>\n",
       "      <td>0</td>\n",
       "      <td>2.670744</td>\n",
       "      <td>4.011136</td>\n",
       "      <td>0</td>\n",
       "    </tr>\n",
       "    <tr>\n",
       "      <th>8</th>\n",
       "      <td>2.9</td>\n",
       "      <td>0.44</td>\n",
       "      <td>75</td>\n",
       "      <td>139</td>\n",
       "      <td>1.18</td>\n",
       "      <td>0.53</td>\n",
       "      <td>0</td>\n",
       "      <td>2.964152</td>\n",
       "      <td>7.773352</td>\n",
       "      <td>1</td>\n",
       "    </tr>\n",
       "    <tr>\n",
       "      <th>9</th>\n",
       "      <td>2.9</td>\n",
       "      <td>0.44</td>\n",
       "      <td>75</td>\n",
       "      <td>139</td>\n",
       "      <td>1.18</td>\n",
       "      <td>0.53</td>\n",
       "      <td>0</td>\n",
       "      <td>3.060818</td>\n",
       "      <td>6.066695</td>\n",
       "      <td>1</td>\n",
       "    </tr>\n",
       "  </tbody>\n",
       "</table>\n",
       "</div>"
      ],
      "text/plain": [
       "   Young's Modulus (GPa)  Poisson's ratio  Tensile Strength (MPa)  \\\n",
       "0                    2.9             0.44                      75   \n",
       "1                    2.9             0.44                      75   \n",
       "2                    2.9             0.44                      75   \n",
       "3                    2.9             0.44                      75   \n",
       "4                    2.9             0.44                      75   \n",
       "5                    2.9             0.44                      75   \n",
       "6                    2.9             0.44                      75   \n",
       "7                    2.9             0.44                      75   \n",
       "8                    2.9             0.44                      75   \n",
       "9                    2.9             0.44                      75   \n",
       "\n",
       "   Compressive strength (MPa)  Density (g/cm3)  Friction coefficient  \\\n",
       "0                         139             1.18                  0.53   \n",
       "1                         139             1.18                  0.53   \n",
       "2                         139             1.18                  0.53   \n",
       "3                         139             1.18                  0.53   \n",
       "4                         139             1.18                  0.53   \n",
       "5                         139             1.18                  0.53   \n",
       "6                         139             1.18                  0.53   \n",
       "7                         139             1.18                  0.53   \n",
       "8                         139             1.18                  0.53   \n",
       "9                         139             1.18                  0.53   \n",
       "\n",
       "   Inclination angle          X         Y  Fracture Growth  \n",
       "0                   0  1.752987  5.035553                0  \n",
       "1                   0  3.200039  5.402463                1  \n",
       "2                   0  3.279343  4.390618                1  \n",
       "3                   0  3.098813  3.604574                1  \n",
       "4                   0  3.384115  5.025376                0  \n",
       "5                   0  3.040002  2.894427                1  \n",
       "6                   0  3.041936  2.259991                1  \n",
       "7                   0  2.670744  4.011136                0  \n",
       "8                   0  2.964152  7.773352                1  \n",
       "9                   0  3.060818  6.066695                1  "
      ]
     },
     "execution_count": 4,
     "metadata": {},
     "output_type": "execute_result"
    }
   ],
   "source": [
    "# Reading the FractureGrowth dateset Exploring the growth\n",
    "growth = pd.read_csv('FractureGrowth.csv')\n",
    "growth.head(10)"
   ]
  },
  {
   "cell_type": "code",
   "execution_count": 5,
   "metadata": {},
   "outputs": [
    {
     "data": {
      "text/html": [
       "<div>\n",
       "<style scoped>\n",
       "    .dataframe tbody tr th:only-of-type {\n",
       "        vertical-align: middle;\n",
       "    }\n",
       "\n",
       "    .dataframe tbody tr th {\n",
       "        vertical-align: top;\n",
       "    }\n",
       "\n",
       "    .dataframe thead th {\n",
       "        text-align: right;\n",
       "    }\n",
       "</style>\n",
       "<table border=\"1\" class=\"dataframe\">\n",
       "  <thead>\n",
       "    <tr style=\"text-align: right;\">\n",
       "      <th></th>\n",
       "      <th>Young's Modulus (GPa)</th>\n",
       "      <th>Poisson's ratio</th>\n",
       "      <th>Tensile Strength (MPa)</th>\n",
       "      <th>Compressive strength (MPa)</th>\n",
       "      <th>Density (g/cm3)</th>\n",
       "      <th>Friction coefficient</th>\n",
       "      <th>Inclination angle</th>\n",
       "      <th>X</th>\n",
       "      <th>Y</th>\n",
       "      <th>Fracture Growth</th>\n",
       "    </tr>\n",
       "  </thead>\n",
       "  <tbody>\n",
       "    <tr>\n",
       "      <th>count</th>\n",
       "      <td>1.100000e+01</td>\n",
       "      <td>1.100000e+01</td>\n",
       "      <td>11.0</td>\n",
       "      <td>11.0</td>\n",
       "      <td>11.00</td>\n",
       "      <td>1.100000e+01</td>\n",
       "      <td>11.0</td>\n",
       "      <td>11.000000</td>\n",
       "      <td>11.000000</td>\n",
       "      <td>11.000000</td>\n",
       "    </tr>\n",
       "    <tr>\n",
       "      <th>mean</th>\n",
       "      <td>2.900000e+00</td>\n",
       "      <td>4.400000e-01</td>\n",
       "      <td>75.0</td>\n",
       "      <td>139.0</td>\n",
       "      <td>1.18</td>\n",
       "      <td>5.300000e-01</td>\n",
       "      <td>0.0</td>\n",
       "      <td>2.948121</td>\n",
       "      <td>4.849656</td>\n",
       "      <td>0.727273</td>\n",
       "    </tr>\n",
       "    <tr>\n",
       "      <th>std</th>\n",
       "      <td>9.315294e-16</td>\n",
       "      <td>5.822059e-17</td>\n",
       "      <td>0.0</td>\n",
       "      <td>0.0</td>\n",
       "      <td>0.00</td>\n",
       "      <td>1.164412e-16</td>\n",
       "      <td>0.0</td>\n",
       "      <td>0.438360</td>\n",
       "      <td>1.659039</td>\n",
       "      <td>0.467099</td>\n",
       "    </tr>\n",
       "    <tr>\n",
       "      <th>min</th>\n",
       "      <td>2.900000e+00</td>\n",
       "      <td>4.400000e-01</td>\n",
       "      <td>75.0</td>\n",
       "      <td>139.0</td>\n",
       "      <td>1.18</td>\n",
       "      <td>5.300000e-01</td>\n",
       "      <td>0.0</td>\n",
       "      <td>1.752987</td>\n",
       "      <td>2.259991</td>\n",
       "      <td>0.000000</td>\n",
       "    </tr>\n",
       "    <tr>\n",
       "      <th>25%</th>\n",
       "      <td>2.900000e+00</td>\n",
       "      <td>4.400000e-01</td>\n",
       "      <td>75.0</td>\n",
       "      <td>139.0</td>\n",
       "      <td>1.18</td>\n",
       "      <td>5.300000e-01</td>\n",
       "      <td>0.0</td>\n",
       "      <td>2.950267</td>\n",
       "      <td>3.807855</td>\n",
       "      <td>0.500000</td>\n",
       "    </tr>\n",
       "    <tr>\n",
       "      <th>50%</th>\n",
       "      <td>2.900000e+00</td>\n",
       "      <td>4.400000e-01</td>\n",
       "      <td>75.0</td>\n",
       "      <td>139.0</td>\n",
       "      <td>1.18</td>\n",
       "      <td>5.300000e-01</td>\n",
       "      <td>0.0</td>\n",
       "      <td>3.041936</td>\n",
       "      <td>5.025376</td>\n",
       "      <td>1.000000</td>\n",
       "    </tr>\n",
       "    <tr>\n",
       "      <th>75%</th>\n",
       "      <td>2.900000e+00</td>\n",
       "      <td>4.400000e-01</td>\n",
       "      <td>75.0</td>\n",
       "      <td>139.0</td>\n",
       "      <td>1.18</td>\n",
       "      <td>5.300000e-01</td>\n",
       "      <td>0.0</td>\n",
       "      <td>3.149426</td>\n",
       "      <td>5.734579</td>\n",
       "      <td>1.000000</td>\n",
       "    </tr>\n",
       "    <tr>\n",
       "      <th>max</th>\n",
       "      <td>2.900000e+00</td>\n",
       "      <td>4.400000e-01</td>\n",
       "      <td>75.0</td>\n",
       "      <td>139.0</td>\n",
       "      <td>1.18</td>\n",
       "      <td>5.300000e-01</td>\n",
       "      <td>0.0</td>\n",
       "      <td>3.384115</td>\n",
       "      <td>7.773352</td>\n",
       "      <td>1.000000</td>\n",
       "    </tr>\n",
       "  </tbody>\n",
       "</table>\n",
       "</div>"
      ],
      "text/plain": [
       "       Young's Modulus (GPa)  Poisson's ratio  Tensile Strength (MPa)  \\\n",
       "count           1.100000e+01     1.100000e+01                    11.0   \n",
       "mean            2.900000e+00     4.400000e-01                    75.0   \n",
       "std             9.315294e-16     5.822059e-17                     0.0   \n",
       "min             2.900000e+00     4.400000e-01                    75.0   \n",
       "25%             2.900000e+00     4.400000e-01                    75.0   \n",
       "50%             2.900000e+00     4.400000e-01                    75.0   \n",
       "75%             2.900000e+00     4.400000e-01                    75.0   \n",
       "max             2.900000e+00     4.400000e-01                    75.0   \n",
       "\n",
       "       Compressive strength (MPa)  Density (g/cm3)  Friction coefficient  \\\n",
       "count                        11.0            11.00          1.100000e+01   \n",
       "mean                        139.0             1.18          5.300000e-01   \n",
       "std                           0.0             0.00          1.164412e-16   \n",
       "min                         139.0             1.18          5.300000e-01   \n",
       "25%                         139.0             1.18          5.300000e-01   \n",
       "50%                         139.0             1.18          5.300000e-01   \n",
       "75%                         139.0             1.18          5.300000e-01   \n",
       "max                         139.0             1.18          5.300000e-01   \n",
       "\n",
       "       Inclination angle           X          Y  Fracture Growth  \n",
       "count                11.0  11.000000  11.000000        11.000000  \n",
       "mean                  0.0   2.948121   4.849656         0.727273  \n",
       "std                   0.0   0.438360   1.659039         0.467099  \n",
       "min                   0.0   1.752987   2.259991         0.000000  \n",
       "25%                   0.0   2.950267   3.807855         0.500000  \n",
       "50%                   0.0   3.041936   5.025376         1.000000  \n",
       "75%                   0.0   3.149426   5.734579         1.000000  \n",
       "max                   0.0   3.384115   7.773352         1.000000  "
      ]
     },
     "execution_count": 5,
     "metadata": {},
     "output_type": "execute_result"
    }
   ],
   "source": [
    "growth.describe()"
   ]
  },
  {
   "cell_type": "code",
   "execution_count": 6,
   "metadata": {},
   "outputs": [],
   "source": [
    "from sklearn.model_selection import train_test_split"
   ]
  },
  {
   "cell_type": "code",
   "execution_count": 7,
   "metadata": {},
   "outputs": [],
   "source": [
    "features = titanic.drop('Fracture Growth', axis=1)\n",
    "labels = titanic['Fracture Growth']\n",
    "\n",
    "X_train, X_test, y_train, y_test = train_test_split(features, labels, test_size=0.4, random_state=42)\n",
    "X_test, X_val, y_test, y_val = train_test_split(X_test, y_test, test_size=0.5, random_state=42)"
   ]
  },
  {
   "cell_type": "code",
   "execution_count": 8,
   "metadata": {},
   "outputs": [
    {
     "name": "stdout",
     "output_type": "stream",
     "text": [
      "0.55\n",
      "0.27\n",
      "0.18\n"
     ]
    }
   ],
   "source": [
    "for dataset in(y_train, y_val, y_test):\n",
    "    print(round(len(dataset) / len(labels), 2))"
   ]
  },
  {
   "cell_type": "code",
   "execution_count": 9,
   "metadata": {},
   "outputs": [
    {
     "name": "stdout",
     "output_type": "stream",
     "text": [
      "11 6 3 2\n"
     ]
    }
   ],
   "source": [
    "print(len(labels), len(y_train), len(y_val), len(y_test))"
   ]
  },
  {
   "cell_type": "code",
   "execution_count": 11,
   "metadata": {},
   "outputs": [],
   "source": [
    "# Write out train, test, validation data\n",
    "X_train.to_csv('Fracture_train_features.csv' , index=False)\n",
    "X_val.to_csv('Fracture_val_features.csv' , index=False)\n",
    "X_test.to_csv('Fracture_test_features.csv' , index=False)\n",
    "\n",
    "y_train.to_csv('Fracture_train_labels.csv' , index=False)\n",
    "y_val.to_csv('Fracture_val_labels.csv' , index=False)\n",
    "y_test.to_csv('Fracture_test_labels.csv' , index=False)"
   ]
  },
  {
   "cell_type": "code",
   "execution_count": 12,
   "metadata": {},
   "outputs": [
    {
     "data": {
      "text/plain": [
       "LogisticRegression(C=1.0, class_weight=None, dual=False, fit_intercept=True,\n",
       "                   intercept_scaling=1, l1_ratio=None, max_iter=100,\n",
       "                   multi_class='auto', n_jobs=None, penalty='l2',\n",
       "                   random_state=None, solver='lbfgs', tol=0.0001, verbose=0,\n",
       "                   warm_start=False)"
      ]
     },
     "execution_count": 12,
     "metadata": {},
     "output_type": "execute_result"
    }
   ],
   "source": [
    "# Logistic Regression Model\n",
    "# Gives potential hyperparameters we could tune. We would tune the one which has the largest impact\n",
    "# The C hyperparameter is regularisation parameter is logistic reg that controls how closely model fits to training data\n",
    "# More value of C, less regularization and classification good, if less C then more regularization and underfitting\n",
    "from sklearn.linear_model import LogisticRegression\n",
    "\n",
    "LogisticRegression()"
   ]
  },
  {
   "cell_type": "code",
   "execution_count": 19,
   "metadata": {},
   "outputs": [],
   "source": [
    "import joblib\n",
    "import pandas as pd\n",
    "from sklearn.linear_model import LogisticRegression\n",
    "from sklearn.model_selection import GridSearchCV\n",
    "import warnings\n",
    "warnings.filterwarnings('ignore', category=FutureWarning)\n",
    "warnings.filterwarnings('ignore', category=DeprecationWarning)\n",
    "\n",
    "tr_features = pd.read_csv('Fracture_train_features.csv')\n",
    "tr_labels = pd.read_csv('Fracture_train_labels.csv', header=None)"
   ]
  },
  {
   "cell_type": "code",
   "execution_count": 20,
   "metadata": {},
   "outputs": [],
   "source": [
    "def print_results(results):\n",
    "    print('BEST PARAMS: {}\\n'.format(results.best_params_))\n",
    "    \n",
    "    means = results.cv_results_['mean_test_score']\n",
    "    stds = results.cv_results_['std_test_score']\n",
    "    for mean, std, params in zip(means, stds, results.cv_results_['params']):\n",
    "        print('{} (+/-{}) for {}'.format(round(mean,3), round(std * 2, 3), params))"
   ]
  },
  {
   "cell_type": "code",
   "execution_count": 24,
   "metadata": {},
   "outputs": [
    {
     "name": "stderr",
     "output_type": "stream",
     "text": [
      "C:\\Users\\shasw\\anaconda3\\lib\\site-packages\\sklearn\\model_selection\\_split.py:667: UserWarning: The least populated class in y has only 2 members, which is less than n_splits=4.\n",
      "  % (min_groups, self.n_splits)), UserWarning)\n"
     ]
    },
    {
     "name": "stdout",
     "output_type": "stream",
     "text": [
      "BEST PARAMS: {'C': 0.001}\n",
      "\n",
      "0.75 (+/-0.5) for {'C': 0.001}\n",
      "0.75 (+/-0.5) for {'C': 0.01}\n",
      "0.75 (+/-0.5) for {'C': 0.1}\n",
      "0.375 (+/-0.829) for {'C': 1}\n",
      "0.375 (+/-0.829) for {'C': 10}\n",
      "0.5 (+/-0.707) for {'C': 100}\n",
      "0.5 (+/-0.707) for {'C': 1000}\n"
     ]
    }
   ],
   "source": [
    "# Logistic Regression with 4-fold cross validation and tuning the hyperparameter C\n",
    "# Shows that model underfits when low C & high Regularization & less accuracy; C=1 best accuracy; model overfits when high C & low Reg\n",
    "# 7 hyperparameters and 4 cross val so 7*4 = 28 individual models\n",
    "# Best is 75% as below\n",
    "lr = LogisticRegression()\n",
    "parameters = {\n",
    "    'C': [0.001, 0.01, 0.1, 1, 10, 100, 1000],\n",
    "}\n",
    "\n",
    "cv = GridSearchCV(lr, parameters, cv=4)\n",
    "cv.fit(tr_features, tr_labels.values.ravel())\n",
    "\n",
    "print_results(cv)"
   ]
  },
  {
   "cell_type": "code",
   "execution_count": 25,
   "metadata": {},
   "outputs": [
    {
     "data": {
      "text/plain": [
       "LogisticRegression(C=0.001, class_weight=None, dual=False, fit_intercept=True,\n",
       "                   intercept_scaling=1, l1_ratio=None, max_iter=100,\n",
       "                   multi_class='auto', n_jobs=None, penalty='l2',\n",
       "                   random_state=None, solver='lbfgs', tol=0.0001, verbose=0,\n",
       "                   warm_start=False)"
      ]
     },
     "execution_count": 25,
     "metadata": {},
     "output_type": "execute_result"
    }
   ],
   "source": [
    "cv.best_estimator_"
   ]
  },
  {
   "cell_type": "code",
   "execution_count": 26,
   "metadata": {},
   "outputs": [
    {
     "data": {
      "text/plain": [
       "['FGLR_model.pkl']"
      ]
     },
     "execution_count": 26,
     "metadata": {},
     "output_type": "execute_result"
    }
   ],
   "source": [
    "# Write out pickled model\n",
    "joblib.dump(cv.best_estimator_,'FGLR_model.pkl')"
   ]
  },
  {
   "cell_type": "code",
   "execution_count": 33,
   "metadata": {},
   "outputs": [],
   "source": [
    "# Evaluate results on the validation set\n",
    "import joblib\n",
    "import pandas as pd\n",
    "from sklearn.metrics import accuracy_score, precision_score, recall_score\n",
    "from time import time\n",
    "\n",
    "val_features = pd.read_csv('Fracture_val_features.csv')\n",
    "val_labels = pd.read_csv('Fracture_val_labels.csv', header=None)\n",
    "\n",
    "te_features = pd.read_csv('Fracture_test_features.csv')\n",
    "te_labels = pd.read_csv('Fracture_test_labels.csv', header=None)"
   ]
  },
  {
   "cell_type": "code",
   "execution_count": 34,
   "metadata": {},
   "outputs": [],
   "source": [
    "models = {}\n",
    "\n",
    "for mdl in ['FGLR']:\n",
    "    models[mdl] = joblib.load('{}_model.pkl'.format(mdl))"
   ]
  },
  {
   "cell_type": "code",
   "execution_count": 35,
   "metadata": {},
   "outputs": [
    {
     "data": {
      "text/plain": [
       "{'FGLR': LogisticRegression(C=0.001, class_weight=None, dual=False, fit_intercept=True,\n",
       "                    intercept_scaling=1, l1_ratio=None, max_iter=100,\n",
       "                    multi_class='auto', n_jobs=None, penalty='l2',\n",
       "                    random_state=None, solver='lbfgs', tol=0.0001, verbose=0,\n",
       "                    warm_start=False)}"
      ]
     },
     "execution_count": 35,
     "metadata": {},
     "output_type": "execute_result"
    }
   ],
   "source": [
    "models"
   ]
  },
  {
   "cell_type": "code",
   "execution_count": 36,
   "metadata": {},
   "outputs": [],
   "source": [
    "# Evaluated models on the validation set\n",
    "def evaluate_model(name, model, features, labels):\n",
    "    start = time()\n",
    "    pred = model.predict(features)\n",
    "    end = time()\n",
    "    accuracy = round(accuracy_score(labels, pred), 3)\n",
    "    precision = round(precision_score(labels, pred), 3)\n",
    "    recall = round(recall_score(labels, pred), 3)\n",
    "    print('{} -- Accuracy: {} / Precision: {} / Recall: {} / Latency: {}ms'.format(name, accuracy, precision, recall, round((end - start))))"
   ]
  },
  {
   "cell_type": "code",
   "execution_count": 37,
   "metadata": {},
   "outputs": [
    {
     "name": "stdout",
     "output_type": "stream",
     "text": [
      "FGLR -- Accuracy: 0.667 / Precision: 0.667 / Recall: 1.0 / Latency: 0ms\n"
     ]
    }
   ],
   "source": [
    "for name, mdl in models.items():\n",
    "    evaluate_model(name, mdl, val_features, val_labels)"
   ]
  }
 ],
 "metadata": {
  "kernelspec": {
   "display_name": "Python 3",
   "language": "python",
   "name": "python3"
  },
  "language_info": {
   "codemirror_mode": {
    "name": "ipython",
    "version": 3
   },
   "file_extension": ".py",
   "mimetype": "text/x-python",
   "name": "python",
   "nbconvert_exporter": "python",
   "pygments_lexer": "ipython3",
   "version": "3.7.6"
  }
 },
 "nbformat": 4,
 "nbformat_minor": 4
}
